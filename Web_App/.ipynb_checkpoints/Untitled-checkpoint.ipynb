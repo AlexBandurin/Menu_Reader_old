{
 "cells": [
  {
   "cell_type": "code",
   "execution_count": 5,
   "id": "b91d277d",
   "metadata": {},
   "outputs": [],
   "source": [
    "#app.py\n",
    "# from flask import Flask, flash, request, redirect, url_for, render_template\n",
    "# import urllib.request\n",
    "# import os\n",
    "# from werkzeug.utils import secure_filename\n",
    "import easyocr\n",
    "import cv2\n",
    "import numpy as np\n",
    "import pandas as pd\n",
    "import re\n",
    "import string\n",
    "from transformers import BertTokenizer, BertModel\n",
    "import pickle\n",
    "import torch"
   ]
  },
  {
   "cell_type": "code",
   "execution_count": 17,
   "id": "a7729365",
   "metadata": {},
   "outputs": [
    {
     "name": "stderr",
     "output_type": "stream",
     "text": [
      "Some weights of the model checkpoint at bert-base-uncased were not used when initializing BertModel: ['cls.predictions.bias', 'cls.predictions.transform.LayerNorm.weight', 'cls.predictions.transform.LayerNorm.bias', 'cls.seq_relationship.bias', 'cls.predictions.transform.dense.weight', 'cls.predictions.transform.dense.bias', 'cls.seq_relationship.weight', 'cls.predictions.decoder.weight']\n",
      "- This IS expected if you are initializing BertModel from the checkpoint of a model trained on another task or with another architecture (e.g. initializing a BertForSequenceClassification model from a BertForPreTraining model).\n",
      "- This IS NOT expected if you are initializing BertModel from the checkpoint of a model that you expect to be exactly identical (initializing a BertForSequenceClassification model from a BertForSequenceClassification model).\n"
     ]
    }
   ],
   "source": [
    "words = ['salad','soup','chowder', 'appetizer', 'fries','strip','bowl', 'chips', 'steak', 'platter', 'pudding',\\\n",
    "         'chocolate','malt', 'shake','cream','creme','vanilla','brownie', 'pie', 'rings', 'wrap',\\\n",
    "         'juice', 'coffee', 'milk', 'tea', 'bites','drink','orange','water','burger','meat','nacho','sandwich',\\\n",
    "        'patty','tater','burrito','skillet','lattte','esspresso', 'cafe','sausage', 'ice cream','beer','wine']\n",
    "\n",
    "\n",
    "xgb = pickle.load(open('xgb.pkl', \"rb\")) \n",
    "xgb2 = pickle.load(open('xgb2.pkl', \"rb\")) \n",
    "\n",
    "model = BertModel.from_pretrained('bert-base-uncased')\n",
    "tokenizer = BertTokenizer.from_pretrained('bert-base-uncased')"
   ]
  },
  {
   "cell_type": "code",
   "execution_count": 18,
   "id": "720a223a",
   "metadata": {},
   "outputs": [
    {
     "name": "stderr",
     "output_type": "stream",
     "text": [
      "Neither CUDA nor MPS are available - defaulting to CPU. Note: This module is much faster with a GPU.\n"
     ]
    },
    {
     "name": "stdout",
     "output_type": "stream",
     "text": [
      "Processing text 0 of 61 (0.00% complete)\n",
      "Finished converting texts to vectors.\n",
      "Processing text 0 of 21 (0.00% complete)\n",
      "Finished converting texts to vectors.\n"
     ]
    }
   ],
   "source": [
    "def count_uppercase_letters(text):\n",
    "    return sum(1 for i in text if i.isupper())\n",
    "def count_numerical_chars(text):\n",
    "    return sum(1 for i in text if i.isdigit())\n",
    "def count_punctuation(text):\n",
    "    return sum(1 for i in text if i in string.punctuation and i not in [',', '.', '$',':'])\n",
    "def count_consecutive_periods(text):\n",
    "    return len(re.findall(r'\\.{2,}', text))\n",
    "\n",
    "# Create a reader for English language\n",
    "reader = easyocr.Reader(['en'])\n",
    "\n",
    "file = 'static/thumbnails/test_menu.jpeg'\n",
    "\n",
    "# Read the images using OpenCV\n",
    "image = cv2.imread(file)\n",
    "\n",
    "# Convert the image to RGB (OpenCV loads images in BGR format)\n",
    "image = cv2.cvtColor(image, cv2.COLOR_BGR2RGB)\n",
    "\n",
    "# Get the dimensions of the image\n",
    "height_img, width_img, _ = image.shape\n",
    "area_img = width_img*height_img\n",
    "\n",
    "# Perform OCR on the image\n",
    "result = reader.readtext(image)\n",
    "\n",
    "# Prepare a list to store the data\n",
    "data = []\n",
    "\n",
    "# Loop through the results\n",
    "for (bbox, text, prob) in result:\n",
    "    # unpack the bounding box\n",
    "    (tl, tr, br, bl) = bbox\n",
    "    tl = (int(tl[0]), int(tl[1]))\n",
    "    tr = (int(tr[0]), int(tr[1]))\n",
    "    br = (int(br[0]), int(br[1]))\n",
    "    bl = (int(bl[0]), int(bl[1]))        \n",
    "\n",
    "    # Compute the width and height of the bounding box\n",
    "    width = np.sqrt((br[0]-bl[0])**2 + (br[1]-bl[1])**2)/(width_img)\n",
    "    height = np.sqrt((tr[0]-br[0])**2 + (tr[1]-br[1])**2)/(height_img)\n",
    "\n",
    "    # Compute the area of the bounding box\n",
    "    area = (width * height)\n",
    "\n",
    "    # Append the text, probability, bbox coordinates, width, height, and area to the data list\n",
    "    data.append([text, width, height])\n",
    "\n",
    "# Create a pandas DataFrame from the data\n",
    "df = pd.DataFrame(data, columns=[\"Text\", \"width\", \"height\"])\n",
    "\n",
    "df = df[['Text', \"width\", 'height']]\n",
    "#     df = df.astype({'width':'int'})\n",
    "#     df = df.astype({'height':'int'})\n",
    "#     df = df.astype({'area':'int'})\n",
    "df['uppercase'] = df['Text'].apply(count_uppercase_letters)\n",
    "\n",
    "df['Text'] = df['Text'].str.strip()\n",
    "# Add character count\n",
    "df['chars'] = df['Text'].apply(len)\n",
    "\n",
    "# Add word count\n",
    "df['words'] = df['Text'].apply(lambda x: len(x.split()))\n",
    "\n",
    "df['periods'] = df['Text'].apply(lambda x: x.count('.'))\n",
    "df['period_btw_numbers'] = df['Text'].apply(lambda x: bool(re.search(r'\\d\\.\\d', x))).astype(int)\n",
    "df['number_end'] = df['Text'].apply(lambda x: bool(re.search(r'\\d$', x))).astype(int)\n",
    "df['numbers'] = df['Text'].apply(count_numerical_chars)\n",
    "df['commas'] = df['Text'].apply(lambda x: x.count(','))\n",
    "df['exclamation'] = df['Text'].apply(lambda x: x.count('!'))\n",
    "df['question'] = df['Text'].apply(lambda x: x.count('?'))\n",
    "df['colons'] = df['Text'].apply(lambda x: x.count(':'))\n",
    "df['underscores'] = df['Text'].apply(lambda x: x.count('_'))\n",
    "df['dollar'] = df['Text'].apply(lambda x: x.count('$'))\n",
    "df['punctuation'] = df['Text'].apply(count_punctuation)\n",
    "df['2_periods_cnt'] = df['Text'].apply(count_consecutive_periods)\n",
    "\n",
    "df['Item'] = np.zeros(len(df))\n",
    "df['Item'] = df['Item'].astype('int')\n",
    "\n",
    "def texts_to_vectors(texts):\n",
    "\n",
    "    vectors = []\n",
    "    for cnt, text in enumerate(texts):\n",
    "        try:            \n",
    "            inputs = tokenizer([text], return_tensors=\"pt\", truncation=True, padding=True)\n",
    "            with torch.no_grad():\n",
    "                outputs = model(**inputs)\n",
    "            embeddings = outputs.last_hidden_state\n",
    "            mask = inputs.attention_mask\n",
    "            masked_embeddings = embeddings * mask.unsqueeze(-1)\n",
    "            summed = torch.sum(masked_embeddings, 1)\n",
    "            summed_mask = torch.clamp(mask.sum(1), min=1e-9)\n",
    "            mean_pooled = summed / summed_mask.unsqueeze(-1)\n",
    "            vectors.append(mean_pooled[0].numpy())\n",
    "        except Exception as e:\n",
    "            print(f\"Error encountered while processing text {cnt}: {e}\")\n",
    "            continue\n",
    "        # Print progress update every 400 samples\n",
    "        if cnt % 400 == 0:\n",
    "            percentage = (cnt / len(texts)) * 100\n",
    "            print(f\"Processing text {cnt} of {len(texts)} ({percentage:.2f}% complete)\")\n",
    "\n",
    "    print(\"Finished converting texts to vectors.\")\n",
    "\n",
    "    return np.array(vectors)\n",
    "\n",
    "vectors = texts_to_vectors(df['Text'].tolist())    \n",
    "df_vectors = pd.DataFrame(vectors, columns=[f'vector_{i}' for i in range(vectors.shape[1])])\n",
    "df_bert_test = pd.concat([df, df_vectors], axis=1)\n",
    "\n",
    "df_predict = df_bert_test.drop(['Text','Item'],axis = 1)\n",
    "\n",
    "item = xgb.predict(df_predict)\n",
    "df_menu = df_bert_test.copy()\n",
    "df_menu['Item'] = item\n",
    "\n",
    "list_of_items = df_menu[df_menu.Item == 1]['Text'].str.replace('[^a-zA-Z ]', '', regex=True).str.strip().tolist()\n",
    "\n",
    "list_of_items_df = pd.DataFrame({'Text':list_of_items, 'Type': np.zeros(len(list_of_items),dtype = int).tolist()})\n",
    "\n",
    "vectors = texts_to_vectors(list_of_items_df['Text'].tolist())\n",
    "df_vectors = pd.DataFrame(vectors, columns=[f'vector_{i}' for i in range(vectors.shape[1])])\n",
    "df_bert_cat = pd.concat([list_of_items_df, df_vectors], axis=1)\n",
    "\n",
    "for word in words:\n",
    "    df_bert_cat[word] = list_of_items_df['Text'].str.contains(word, case=False).astype(int)\n",
    "\n",
    "df_predict_cat = df_bert_cat.drop(['Text','Type'],axis = 1)\n",
    "Type = xgb2.predict(df_predict_cat)\n",
    "df_bert_cat['Type'] = Type\n",
    "df_final = df_bert_cat[['Text','Type']]\n",
    "\n",
    "categories = {\n",
    "    'drinks': df_final[df_final['Type'] == 1]['Text'].tolist(),\n",
    "    'appetizers': df_final[df_final['Type'] == 2]['Text'].tolist(),\n",
    "    'salads': df_final[df_final['Type'] == 3]['Text'].tolist(),\n",
    "    'soups': df_final[df_final['Type'] == 4]['Text'].tolist(),\n",
    "    'main': df_final[df_final['Type'] == 5]['Text'].tolist(),\n",
    "    'desserts': df_final[df_final['Type'] == 6]['Text'].tolist()\n",
    "}\n"
   ]
  },
  {
   "cell_type": "code",
   "execution_count": 19,
   "id": "1f3cb02e",
   "metadata": {},
   "outputs": [
    {
     "data": {
      "text/plain": [
       "{'drinks': ['COFFEE',\n",
       "  'CAFE LATTE',\n",
       "  'BLOOD ORANGE',\n",
       "  'MIMOSA',\n",
       "  'ESPRESSO',\n",
       "  'MOCHA',\n",
       "  'BAGEL',\n",
       "  'FRUIT'],\n",
       " 'appetizers': [],\n",
       " 'salads': [],\n",
       " 'soups': [],\n",
       " 'main': ['BUTTER FRENCH TOAST',\n",
       "  'BRAISED OXTAIL TAQUITOS HUEVOS',\n",
       "  'PORCHETTA EGGS BENEDICT',\n",
       "  'BREAKFAST SANDWICH',\n",
       "  'EGG WHITE OMELETTE',\n",
       "  'RIBEYE',\n",
       "  'HASH SKILLET',\n",
       "  'HAND ROLLED CINNAMON ROLL',\n",
       "  'BREAKFAST POTATOES',\n",
       "  'APPLEWOOD SMOKED BACON',\n",
       "  'BUTCHER  LARDER',\n",
       "  'YOGURT PARFAIT',\n",
       "  'SAUSAGE'],\n",
       " 'desserts': []}"
      ]
     },
     "execution_count": 19,
     "metadata": {},
     "output_type": "execute_result"
    }
   ],
   "source": [
    "categories"
   ]
  },
  {
   "cell_type": "code",
   "execution_count": 7,
   "id": "eff0dd1c",
   "metadata": {},
   "outputs": [
    {
     "name": "stdout",
     "output_type": "stream",
     "text": [
      "Items in list1 but not in list2: []\n",
      "Items in list2 but not in list1: []\n"
     ]
    }
   ],
   "source": [
    "list1 = ['vector_0', 'vector_1', 'vector_2', 'vector_3', 'vector_4', 'vector_5', 'vector_6', 'vector_7', 'vector_8', 'vector_9', 'vector_10', 'vector_11', 'vector_12', 'vector_13', 'vector_14', 'vector_15', 'vector_16', 'vector_17', 'vector_18', 'vector_19', 'vector_20', 'vector_21', 'vector_22', 'vector_23', 'vector_24', 'vector_25', 'vector_26', 'vector_27', 'vector_28', 'vector_29', 'vector_30', 'vector_31', 'vector_32', 'vector_33', 'vector_34', 'vector_35', 'vector_36', 'vector_37', 'vector_38', 'vector_39', 'vector_40', 'vector_41', 'vector_42', 'vector_43', 'vector_44', 'vector_45', 'vector_46', 'vector_47', 'vector_48', 'vector_49', 'vector_50', 'vector_51', 'vector_52', 'vector_53', 'vector_54', 'vector_55', 'vector_56', 'vector_57', 'vector_58', 'vector_59', 'vector_60', 'vector_61', 'vector_62', 'vector_63', 'vector_64', 'vector_65', 'vector_66', 'vector_67', 'vector_68', 'vector_69', 'vector_70', 'vector_71', 'vector_72', 'vector_73', 'vector_74', 'vector_75', 'vector_76', 'vector_77', 'vector_78', 'vector_79', 'vector_80', 'vector_81', 'vector_82', 'vector_83', 'vector_84', 'vector_85', 'vector_86', 'vector_87', 'vector_88', 'vector_89', 'vector_90', 'vector_91', 'vector_92', 'vector_93', 'vector_94', 'vector_95', 'vector_96', 'vector_97', 'vector_98', 'vector_99', 'vector_100', 'vector_101', 'vector_102', 'vector_103', 'vector_104', 'vector_105', 'vector_106', 'vector_107', 'vector_108', 'vector_109', 'vector_110', 'vector_111', 'vector_112', 'vector_113', 'vector_114', 'vector_115', 'vector_116', 'vector_117', 'vector_118', 'vector_119', 'vector_120', 'vector_121', 'vector_122', 'vector_123', 'vector_124', 'vector_125', 'vector_126', 'vector_127', 'vector_128', 'vector_129', 'vector_130', 'vector_131', 'vector_132', 'vector_133', 'vector_134', 'vector_135', 'vector_136', 'vector_137', 'vector_138', 'vector_139', 'vector_140', 'vector_141', 'vector_142', 'vector_143', 'vector_144', 'vector_145', 'vector_146', 'vector_147', 'vector_148', 'vector_149', 'vector_150', 'vector_151', 'vector_152', 'vector_153', 'vector_154', 'vector_155', 'vector_156', 'vector_157', 'vector_158', 'vector_159', 'vector_160', 'vector_161', 'vector_162', 'vector_163', 'vector_164', 'vector_165', 'vector_166', 'vector_167', 'vector_168', 'vector_169', 'vector_170', 'vector_171', 'vector_172', 'vector_173', 'vector_174', 'vector_175', 'vector_176', 'vector_177', 'vector_178', 'vector_179', 'vector_180', 'vector_181', 'vector_182', 'vector_183', 'vector_184', 'vector_185', 'vector_186', 'vector_187', 'vector_188', 'vector_189', 'vector_190', 'vector_191', 'vector_192', 'vector_193', 'vector_194', 'vector_195', 'vector_196', 'vector_197', 'vector_198', 'vector_199', 'vector_200', 'vector_201', 'vector_202', 'vector_203', 'vector_204', 'vector_205', 'vector_206', 'vector_207', 'vector_208', 'vector_209', 'vector_210', 'vector_211', 'vector_212', 'vector_213', 'vector_214', 'vector_215', 'vector_216', 'vector_217', 'vector_218', 'vector_219', 'vector_220', 'vector_221', 'vector_222', 'vector_223', 'vector_224', 'vector_225', 'vector_226', 'vector_227', 'vector_228', 'vector_229', 'vector_230', 'vector_231', 'vector_232', 'vector_233', 'vector_234', 'vector_235', 'vector_236', 'vector_237', 'vector_238', 'vector_239', 'vector_240', 'vector_241', 'vector_242', 'vector_243', 'vector_244', 'vector_245', 'vector_246', 'vector_247', 'vector_248', 'vector_249', 'vector_250', 'vector_251', 'vector_252', 'vector_253', 'vector_254', 'vector_255', 'vector_256', 'vector_257', 'vector_258', 'vector_259', 'vector_260', 'vector_261', 'vector_262', 'vector_263', 'vector_264', 'vector_265', 'vector_266', 'vector_267', 'vector_268', 'vector_269', 'vector_270', 'vector_271', 'vector_272', 'vector_273', 'vector_274', 'vector_275', 'vector_276', 'vector_277', 'vector_278', 'vector_279', 'vector_280', 'vector_281', 'vector_282', 'vector_283', 'vector_284', 'vector_285', 'vector_286', 'vector_287', 'vector_288', 'vector_289', 'vector_290', 'vector_291', 'vector_292', 'vector_293', 'vector_294', 'vector_295', 'vector_296', 'vector_297', 'vector_298', 'vector_299', 'vector_300', 'vector_301', 'vector_302', 'vector_303', 'vector_304', 'vector_305', 'vector_306', 'vector_307', 'vector_308', 'vector_309', 'vector_310', 'vector_311', 'vector_312', 'vector_313', 'vector_314', 'vector_315', 'vector_316', 'vector_317', 'vector_318', 'vector_319', 'vector_320', 'vector_321', 'vector_322', 'vector_323', 'vector_324', 'vector_325', 'vector_326', 'vector_327', 'vector_328', 'vector_329', 'vector_330', 'vector_331', 'vector_332', 'vector_333', 'vector_334', 'vector_335', 'vector_336', 'vector_337', 'vector_338', 'vector_339', 'vector_340', 'vector_341', 'vector_342', 'vector_343', 'vector_344', 'vector_345', 'vector_346', 'vector_347', 'vector_348', 'vector_349', 'vector_350', 'vector_351', 'vector_352', 'vector_353', 'vector_354', 'vector_355', 'vector_356', 'vector_357', 'vector_358', 'vector_359', 'vector_360', 'vector_361', 'vector_362', 'vector_363', 'vector_364', 'vector_365', 'vector_366', 'vector_367', 'vector_368', 'vector_369', 'vector_370', 'vector_371', 'vector_372', 'vector_373', 'vector_374', 'vector_375', 'vector_376', 'vector_377', 'vector_378', 'vector_379', 'vector_380', 'vector_381', 'vector_382', 'vector_383', 'vector_384', 'vector_385', 'vector_386', 'vector_387', 'vector_388', 'vector_389', 'vector_390', 'vector_391', 'vector_392', 'vector_393', 'vector_394', 'vector_395', 'vector_396', 'vector_397', 'vector_398', 'vector_399', 'vector_400', 'vector_401', 'vector_402', 'vector_403', 'vector_404', 'vector_405', 'vector_406', 'vector_407', 'vector_408', 'vector_409', 'vector_410', 'vector_411', 'vector_412', 'vector_413', 'vector_414', 'vector_415', 'vector_416', 'vector_417', 'vector_418', 'vector_419', 'vector_420', 'vector_421', 'vector_422', 'vector_423', 'vector_424', 'vector_425', 'vector_426', 'vector_427', 'vector_428', 'vector_429', 'vector_430', 'vector_431', 'vector_432', 'vector_433', 'vector_434', 'vector_435', 'vector_436', 'vector_437', 'vector_438', 'vector_439', 'vector_440', 'vector_441', 'vector_442', 'vector_443', 'vector_444', 'vector_445', 'vector_446', 'vector_447', 'vector_448', 'vector_449', 'vector_450', 'vector_451', 'vector_452', 'vector_453', 'vector_454', 'vector_455', 'vector_456', 'vector_457', 'vector_458', 'vector_459', 'vector_460', 'vector_461', 'vector_462', 'vector_463', 'vector_464', 'vector_465', 'vector_466', 'vector_467', 'vector_468', 'vector_469', 'vector_470', 'vector_471', 'vector_472', 'vector_473', 'vector_474', 'vector_475', 'vector_476', 'vector_477', 'vector_478', 'vector_479', 'vector_480', 'vector_481', 'vector_482', 'vector_483', 'vector_484', 'vector_485', 'vector_486', 'vector_487', 'vector_488', 'vector_489', 'vector_490', 'vector_491', 'vector_492', 'vector_493', 'vector_494', 'vector_495', 'vector_496', 'vector_497', 'vector_498', 'vector_499', 'vector_500', 'vector_501', 'vector_502', 'vector_503', 'vector_504', 'vector_505', 'vector_506', 'vector_507', 'vector_508', 'vector_509', 'vector_510', 'vector_511', 'vector_512', 'vector_513', 'vector_514', 'vector_515', 'vector_516', 'vector_517', 'vector_518', 'vector_519', 'vector_520', 'vector_521', 'vector_522', 'vector_523', 'vector_524', 'vector_525', 'vector_526', 'vector_527', 'vector_528', 'vector_529', 'vector_530', 'vector_531', 'vector_532', 'vector_533', 'vector_534', 'vector_535', 'vector_536', 'vector_537', 'vector_538', 'vector_539', 'vector_540', 'vector_541', 'vector_542', 'vector_543', 'vector_544', 'vector_545', 'vector_546', 'vector_547', 'vector_548', 'vector_549', 'vector_550', 'vector_551', 'vector_552', 'vector_553', 'vector_554', 'vector_555', 'vector_556', 'vector_557', 'vector_558', 'vector_559', 'vector_560', 'vector_561', 'vector_562', 'vector_563', 'vector_564', 'vector_565', 'vector_566', 'vector_567', 'vector_568', 'vector_569', 'vector_570', 'vector_571', 'vector_572', 'vector_573', 'vector_574', 'vector_575', 'vector_576', 'vector_577', 'vector_578', 'vector_579', 'vector_580', 'vector_581', 'vector_582', 'vector_583', 'vector_584', 'vector_585', 'vector_586', 'vector_587', 'vector_588', 'vector_589', 'vector_590', 'vector_591', 'vector_592', 'vector_593', 'vector_594', 'vector_595', 'vector_596', 'vector_597', 'vector_598', 'vector_599', 'vector_600', 'vector_601', 'vector_602', 'vector_603', 'vector_604', 'vector_605', 'vector_606', 'vector_607', 'vector_608', 'vector_609', 'vector_610', 'vector_611', 'vector_612', 'vector_613', 'vector_614', 'vector_615', 'vector_616', 'vector_617', 'vector_618', 'vector_619', 'vector_620', 'vector_621', 'vector_622', 'vector_623', 'vector_624', 'vector_625', 'vector_626', 'vector_627', 'vector_628', 'vector_629', 'vector_630', 'vector_631', 'vector_632', 'vector_633', 'vector_634', 'vector_635', 'vector_636', 'vector_637', 'vector_638', 'vector_639', 'vector_640', 'vector_641', 'vector_642', 'vector_643', 'vector_644', 'vector_645', 'vector_646', 'vector_647', 'vector_648', 'vector_649', 'vector_650', 'vector_651', 'vector_652', 'vector_653', 'vector_654', 'vector_655', 'vector_656', 'vector_657', 'vector_658', 'vector_659', 'vector_660', 'vector_661', 'vector_662', 'vector_663', 'vector_664', 'vector_665', 'vector_666', 'vector_667', 'vector_668', 'vector_669', 'vector_670', 'vector_671', 'vector_672', 'vector_673', 'vector_674', 'vector_675', 'vector_676', 'vector_677', 'vector_678', 'vector_679', 'vector_680', 'vector_681', 'vector_682', 'vector_683', 'vector_684', 'vector_685', 'vector_686', 'vector_687', 'vector_688', 'vector_689', 'vector_690', 'vector_691', 'vector_692', 'vector_693', 'vector_694', 'vector_695', 'vector_696', 'vector_697', 'vector_698', 'vector_699', 'vector_700', 'vector_701', 'vector_702', 'vector_703', 'vector_704', 'vector_705', 'vector_706', 'vector_707', 'vector_708', 'vector_709', 'vector_710', 'vector_711', 'vector_712', 'vector_713', 'vector_714', 'vector_715', 'vector_716', 'vector_717', 'vector_718', 'vector_719', 'vector_720', 'vector_721', 'vector_722', 'vector_723', 'vector_724', 'vector_725', 'vector_726', 'vector_727', 'vector_728', 'vector_729', 'vector_730', 'vector_731', 'vector_732', 'vector_733', 'vector_734', 'vector_735', 'vector_736', 'vector_737', 'vector_738', 'vector_739', 'vector_740', 'vector_741', 'vector_742', 'vector_743', 'vector_744', 'vector_745', 'vector_746', 'vector_747', 'vector_748', 'vector_749', 'vector_750', 'vector_751', 'vector_752', 'vector_753', 'vector_754', 'vector_755', 'vector_756', 'vector_757', 'vector_758', 'vector_759', 'vector_760', 'vector_761', 'vector_762', 'vector_763', 'vector_764', 'vector_765', 'vector_766', 'vector_767', 'wrap', 'patty', 'burger', 'sandwich', 'meat', 'tater', 'beer', 'cream', 'fries', 'chips', 'soup', 'milk', 'burrito', 'bowl', 'strip', 'juice', 'coffee', 'drink', 'rings', 'ice cream', 'malt', 'water', 'salad', 'cafe', 'sausage', 'vanilla', 'lattte', 'chocolate', 'orange', 'wine', 'chowder', 'appetizer', 'steak', 'creme', 'tea', 'pie', 'platter', 'pudding', 'bites', 'shake', 'esspresso', 'nacho', 'skillet', 'brownie']\n",
    "list2 = ['vector_0', 'vector_1', 'vector_2', 'vector_3', 'vector_4', 'vector_5', 'vector_6', 'vector_7', 'vector_8', 'vector_9', 'vector_10', 'vector_11', 'vector_12', 'vector_13', 'vector_14', 'vector_15', 'vector_16', 'vector_17', 'vector_18', 'vector_19', 'vector_20', 'vector_21', 'vector_22', 'vector_23', 'vector_24', 'vector_25', 'vector_26', 'vector_27', 'vector_28', 'vector_29', 'vector_30', 'vector_31', 'vector_32', 'vector_33', 'vector_34', 'vector_35', 'vector_36', 'vector_37', 'vector_38', 'vector_39', 'vector_40', 'vector_41', 'vector_42', 'vector_43', 'vector_44', 'vector_45', 'vector_46', 'vector_47', 'vector_48', 'vector_49', 'vector_50', 'vector_51', 'vector_52', 'vector_53', 'vector_54', 'vector_55', 'vector_56', 'vector_57', 'vector_58', 'vector_59', 'vector_60', 'vector_61', 'vector_62', 'vector_63', 'vector_64', 'vector_65', 'vector_66', 'vector_67', 'vector_68', 'vector_69', 'vector_70', 'vector_71', 'vector_72', 'vector_73', 'vector_74', 'vector_75', 'vector_76', 'vector_77', 'vector_78', 'vector_79', 'vector_80', 'vector_81', 'vector_82', 'vector_83', 'vector_84', 'vector_85', 'vector_86', 'vector_87', 'vector_88', 'vector_89', 'vector_90', 'vector_91', 'vector_92', 'vector_93', 'vector_94', 'vector_95', 'vector_96', 'vector_97', 'vector_98', 'vector_99', 'vector_100', 'vector_101', 'vector_102', 'vector_103', 'vector_104', 'vector_105', 'vector_106', 'vector_107', 'vector_108', 'vector_109', 'vector_110', 'vector_111', 'vector_112', 'vector_113', 'vector_114', 'vector_115', 'vector_116', 'vector_117', 'vector_118', 'vector_119', 'vector_120', 'vector_121', 'vector_122', 'vector_123', 'vector_124', 'vector_125', 'vector_126', 'vector_127', 'vector_128', 'vector_129', 'vector_130', 'vector_131', 'vector_132', 'vector_133', 'vector_134', 'vector_135', 'vector_136', 'vector_137', 'vector_138', 'vector_139', 'vector_140', 'vector_141', 'vector_142', 'vector_143', 'vector_144', 'vector_145', 'vector_146', 'vector_147', 'vector_148', 'vector_149', 'vector_150', 'vector_151', 'vector_152', 'vector_153', 'vector_154', 'vector_155', 'vector_156', 'vector_157', 'vector_158', 'vector_159', 'vector_160', 'vector_161', 'vector_162', 'vector_163', 'vector_164', 'vector_165', 'vector_166', 'vector_167', 'vector_168', 'vector_169', 'vector_170', 'vector_171', 'vector_172', 'vector_173', 'vector_174', 'vector_175', 'vector_176', 'vector_177', 'vector_178', 'vector_179', 'vector_180', 'vector_181', 'vector_182', 'vector_183', 'vector_184', 'vector_185', 'vector_186', 'vector_187', 'vector_188', 'vector_189', 'vector_190', 'vector_191', 'vector_192', 'vector_193', 'vector_194', 'vector_195', 'vector_196', 'vector_197', 'vector_198', 'vector_199', 'vector_200', 'vector_201', 'vector_202', 'vector_203', 'vector_204', 'vector_205', 'vector_206', 'vector_207', 'vector_208', 'vector_209', 'vector_210', 'vector_211', 'vector_212', 'vector_213', 'vector_214', 'vector_215', 'vector_216', 'vector_217', 'vector_218', 'vector_219', 'vector_220', 'vector_221', 'vector_222', 'vector_223', 'vector_224', 'vector_225', 'vector_226', 'vector_227', 'vector_228', 'vector_229', 'vector_230', 'vector_231', 'vector_232', 'vector_233', 'vector_234', 'vector_235', 'vector_236', 'vector_237', 'vector_238', 'vector_239', 'vector_240', 'vector_241', 'vector_242', 'vector_243', 'vector_244', 'vector_245', 'vector_246', 'vector_247', 'vector_248', 'vector_249', 'vector_250', 'vector_251', 'vector_252', 'vector_253', 'vector_254', 'vector_255', 'vector_256', 'vector_257', 'vector_258', 'vector_259', 'vector_260', 'vector_261', 'vector_262', 'vector_263', 'vector_264', 'vector_265', 'vector_266', 'vector_267', 'vector_268', 'vector_269', 'vector_270', 'vector_271', 'vector_272', 'vector_273', 'vector_274', 'vector_275', 'vector_276', 'vector_277', 'vector_278', 'vector_279', 'vector_280', 'vector_281', 'vector_282', 'vector_283', 'vector_284', 'vector_285', 'vector_286', 'vector_287', 'vector_288', 'vector_289', 'vector_290', 'vector_291', 'vector_292', 'vector_293', 'vector_294', 'vector_295', 'vector_296', 'vector_297', 'vector_298', 'vector_299', 'vector_300', 'vector_301', 'vector_302', 'vector_303', 'vector_304', 'vector_305', 'vector_306', 'vector_307', 'vector_308', 'vector_309', 'vector_310', 'vector_311', 'vector_312', 'vector_313', 'vector_314', 'vector_315', 'vector_316', 'vector_317', 'vector_318', 'vector_319', 'vector_320', 'vector_321', 'vector_322', 'vector_323', 'vector_324', 'vector_325', 'vector_326', 'vector_327', 'vector_328', 'vector_329', 'vector_330', 'vector_331', 'vector_332', 'vector_333', 'vector_334', 'vector_335', 'vector_336', 'vector_337', 'vector_338', 'vector_339', 'vector_340', 'vector_341', 'vector_342', 'vector_343', 'vector_344', 'vector_345', 'vector_346', 'vector_347', 'vector_348', 'vector_349', 'vector_350', 'vector_351', 'vector_352', 'vector_353', 'vector_354', 'vector_355', 'vector_356', 'vector_357', 'vector_358', 'vector_359', 'vector_360', 'vector_361', 'vector_362', 'vector_363', 'vector_364', 'vector_365', 'vector_366', 'vector_367', 'vector_368', 'vector_369', 'vector_370', 'vector_371', 'vector_372', 'vector_373', 'vector_374', 'vector_375', 'vector_376', 'vector_377', 'vector_378', 'vector_379', 'vector_380', 'vector_381', 'vector_382', 'vector_383', 'vector_384', 'vector_385', 'vector_386', 'vector_387', 'vector_388', 'vector_389', 'vector_390', 'vector_391', 'vector_392', 'vector_393', 'vector_394', 'vector_395', 'vector_396', 'vector_397', 'vector_398', 'vector_399', 'vector_400', 'vector_401', 'vector_402', 'vector_403', 'vector_404', 'vector_405', 'vector_406', 'vector_407', 'vector_408', 'vector_409', 'vector_410', 'vector_411', 'vector_412', 'vector_413', 'vector_414', 'vector_415', 'vector_416', 'vector_417', 'vector_418', 'vector_419', 'vector_420', 'vector_421', 'vector_422', 'vector_423', 'vector_424', 'vector_425', 'vector_426', 'vector_427', 'vector_428', 'vector_429', 'vector_430', 'vector_431', 'vector_432', 'vector_433', 'vector_434', 'vector_435', 'vector_436', 'vector_437', 'vector_438', 'vector_439', 'vector_440', 'vector_441', 'vector_442', 'vector_443', 'vector_444', 'vector_445', 'vector_446', 'vector_447', 'vector_448', 'vector_449', 'vector_450', 'vector_451', 'vector_452', 'vector_453', 'vector_454', 'vector_455', 'vector_456', 'vector_457', 'vector_458', 'vector_459', 'vector_460', 'vector_461', 'vector_462', 'vector_463', 'vector_464', 'vector_465', 'vector_466', 'vector_467', 'vector_468', 'vector_469', 'vector_470', 'vector_471', 'vector_472', 'vector_473', 'vector_474', 'vector_475', 'vector_476', 'vector_477', 'vector_478', 'vector_479', 'vector_480', 'vector_481', 'vector_482', 'vector_483', 'vector_484', 'vector_485', 'vector_486', 'vector_487', 'vector_488', 'vector_489', 'vector_490', 'vector_491', 'vector_492', 'vector_493', 'vector_494', 'vector_495', 'vector_496', 'vector_497', 'vector_498', 'vector_499', 'vector_500', 'vector_501', 'vector_502', 'vector_503', 'vector_504', 'vector_505', 'vector_506', 'vector_507', 'vector_508', 'vector_509', 'vector_510', 'vector_511', 'vector_512', 'vector_513', 'vector_514', 'vector_515', 'vector_516', 'vector_517', 'vector_518', 'vector_519', 'vector_520', 'vector_521', 'vector_522', 'vector_523', 'vector_524', 'vector_525', 'vector_526', 'vector_527', 'vector_528', 'vector_529', 'vector_530', 'vector_531', 'vector_532', 'vector_533', 'vector_534', 'vector_535', 'vector_536', 'vector_537', 'vector_538', 'vector_539', 'vector_540', 'vector_541', 'vector_542', 'vector_543', 'vector_544', 'vector_545', 'vector_546', 'vector_547', 'vector_548', 'vector_549', 'vector_550', 'vector_551', 'vector_552', 'vector_553', 'vector_554', 'vector_555', 'vector_556', 'vector_557', 'vector_558', 'vector_559', 'vector_560', 'vector_561', 'vector_562', 'vector_563', 'vector_564', 'vector_565', 'vector_566', 'vector_567', 'vector_568', 'vector_569', 'vector_570', 'vector_571', 'vector_572', 'vector_573', 'vector_574', 'vector_575', 'vector_576', 'vector_577', 'vector_578', 'vector_579', 'vector_580', 'vector_581', 'vector_582', 'vector_583', 'vector_584', 'vector_585', 'vector_586', 'vector_587', 'vector_588', 'vector_589', 'vector_590', 'vector_591', 'vector_592', 'vector_593', 'vector_594', 'vector_595', 'vector_596', 'vector_597', 'vector_598', 'vector_599', 'vector_600', 'vector_601', 'vector_602', 'vector_603', 'vector_604', 'vector_605', 'vector_606', 'vector_607', 'vector_608', 'vector_609', 'vector_610', 'vector_611', 'vector_612', 'vector_613', 'vector_614', 'vector_615', 'vector_616', 'vector_617', 'vector_618', 'vector_619', 'vector_620', 'vector_621', 'vector_622', 'vector_623', 'vector_624', 'vector_625', 'vector_626', 'vector_627', 'vector_628', 'vector_629', 'vector_630', 'vector_631', 'vector_632', 'vector_633', 'vector_634', 'vector_635', 'vector_636', 'vector_637', 'vector_638', 'vector_639', 'vector_640', 'vector_641', 'vector_642', 'vector_643', 'vector_644', 'vector_645', 'vector_646', 'vector_647', 'vector_648', 'vector_649', 'vector_650', 'vector_651', 'vector_652', 'vector_653', 'vector_654', 'vector_655', 'vector_656', 'vector_657', 'vector_658', 'vector_659', 'vector_660', 'vector_661', 'vector_662', 'vector_663', 'vector_664', 'vector_665', 'vector_666', 'vector_667', 'vector_668', 'vector_669', 'vector_670', 'vector_671', 'vector_672', 'vector_673', 'vector_674', 'vector_675', 'vector_676', 'vector_677', 'vector_678', 'vector_679', 'vector_680', 'vector_681', 'vector_682', 'vector_683', 'vector_684', 'vector_685', 'vector_686', 'vector_687', 'vector_688', 'vector_689', 'vector_690', 'vector_691', 'vector_692', 'vector_693', 'vector_694', 'vector_695', 'vector_696', 'vector_697', 'vector_698', 'vector_699', 'vector_700', 'vector_701', 'vector_702', 'vector_703', 'vector_704', 'vector_705', 'vector_706', 'vector_707', 'vector_708', 'vector_709', 'vector_710', 'vector_711', 'vector_712', 'vector_713', 'vector_714', 'vector_715', 'vector_716', 'vector_717', 'vector_718', 'vector_719', 'vector_720', 'vector_721', 'vector_722', 'vector_723', 'vector_724', 'vector_725', 'vector_726', 'vector_727', 'vector_728', 'vector_729', 'vector_730', 'vector_731', 'vector_732', 'vector_733', 'vector_734', 'vector_735', 'vector_736', 'vector_737', 'vector_738', 'vector_739', 'vector_740', 'vector_741', 'vector_742', 'vector_743', 'vector_744', 'vector_745', 'vector_746', 'vector_747', 'vector_748', 'vector_749', 'vector_750', 'vector_751', 'vector_752', 'vector_753', 'vector_754', 'vector_755', 'vector_756', 'vector_757', 'vector_758', 'vector_759', 'vector_760', 'vector_761', 'vector_762', 'vector_763', 'vector_764', 'vector_765', 'vector_766', 'vector_767', 'salad', 'soup', 'chowder', 'appetizer', 'fries', 'strip', 'bowl', 'chips', 'steak', 'platter', 'pudding', 'chocolate', 'malt', 'shake', 'cream', 'creme', 'vanilla', 'brownie', 'pie', 'rings', 'wrap', 'juice', 'coffee', 'milk', 'tea', 'bites', 'drink', 'orange', 'water', 'burger', 'meat', 'nacho', 'sandwich', 'patty', 'tater', 'burrito', 'skillet', 'lattte', 'esspresso', 'cafe', 'sausage', 'ice cream', 'beer', 'wine']\n",
    "\n",
    "\n",
    "def find_differences(list1, list2):\n",
    "    # Items in list1 but not in list2\n",
    "    diff1 = [item for item in list1 if item not in list2]\n",
    "    \n",
    "    # Items in list2 but not in list1\n",
    "    diff2 = [item for item in list2 if item not in list1]\n",
    "    \n",
    "    return diff1, diff2\n",
    "\n",
    "diff1, diff2 = find_differences(list1, list2)\n",
    "\n",
    "print(\"Items in list1 but not in list2:\", diff1)\n",
    "print(\"Items in list2 but not in list1:\", diff2)\n"
   ]
  },
  {
   "cell_type": "code",
   "execution_count": 8,
   "id": "faa93886",
   "metadata": {},
   "outputs": [
    {
     "data": {
      "text/plain": [
       "812"
      ]
     },
     "execution_count": 8,
     "metadata": {},
     "output_type": "execute_result"
    }
   ],
   "source": [
    "len(list1)"
   ]
  },
  {
   "cell_type": "code",
   "execution_count": 9,
   "id": "ab3bb2fd",
   "metadata": {},
   "outputs": [
    {
     "data": {
      "text/plain": [
       "812"
      ]
     },
     "execution_count": 9,
     "metadata": {},
     "output_type": "execute_result"
    }
   ],
   "source": [
    "len(list2)"
   ]
  },
  {
   "cell_type": "code",
   "execution_count": 10,
   "id": "675b401d",
   "metadata": {},
   "outputs": [],
   "source": [
    "words = ['salad','soup','chowder', 'appetizer', 'fries','strip','bowl', 'chips', 'steak', 'platter', 'pudding',\\\n",
    "         'chocolate','malt', 'shake','cream','creme','vanilla','brownie', 'pie', 'rings', 'wrap',\\\n",
    "         'juice', 'coffee', 'milk', 'tea', 'bites','drink','orange','water','burger','meat','nacho','sandwich',\\\n",
    "        'patty','tater','burrito','skillet','lattte','esspresso', 'cafe','sausage', 'ice cream','beer','wine']\n",
    "words = [*set(words)]"
   ]
  },
  {
   "cell_type": "code",
   "execution_count": 13,
   "id": "82050f57",
   "metadata": {},
   "outputs": [
    {
     "data": {
      "text/plain": [
       "['salad',\n",
       " 'soup',\n",
       " 'chowder',\n",
       " 'appetizer',\n",
       " 'fries',\n",
       " 'strip',\n",
       " 'bowl',\n",
       " 'chips',\n",
       " 'steak',\n",
       " 'platter',\n",
       " 'pudding',\n",
       " 'chocolate',\n",
       " 'malt',\n",
       " 'shake',\n",
       " 'cream',\n",
       " 'creme',\n",
       " 'vanilla',\n",
       " 'brownie',\n",
       " 'pie',\n",
       " 'rings',\n",
       " 'wrap',\n",
       " 'juice',\n",
       " 'coffee',\n",
       " 'milk',\n",
       " 'tea',\n",
       " 'bites',\n",
       " 'drink',\n",
       " 'orange',\n",
       " 'water',\n",
       " 'burger',\n",
       " 'meat',\n",
       " 'nacho',\n",
       " 'sandwich',\n",
       " 'patty',\n",
       " 'tater',\n",
       " 'burrito',\n",
       " 'skillet',\n",
       " 'lattte',\n",
       " 'esspresso',\n",
       " 'cafe',\n",
       " 'sausage',\n",
       " 'ice cream',\n",
       " 'beer',\n",
       " 'wine']"
      ]
     },
     "execution_count": 13,
     "metadata": {},
     "output_type": "execute_result"
    }
   ],
   "source": [
    "words = ['salad','soup','chowder', 'appetizer', 'fries','strip','bowl', 'chips', 'steak', 'platter', 'pudding',\\\n",
    "         'chocolate','malt', 'shake','cream','creme','vanilla','brownie', 'pie', 'rings', 'wrap',\\\n",
    "         'juice', 'coffee', 'milk', 'tea', 'bites','drink','orange','water','burger','meat','nacho','sandwich',\\\n",
    "        'patty','tater','burrito','skillet','lattte','esspresso', 'cafe','sausage', 'ice cream','beer','wine']\n",
    "words"
   ]
  },
  {
   "cell_type": "code",
   "execution_count": 11,
   "id": "749aeea8",
   "metadata": {},
   "outputs": [
    {
     "data": {
      "text/plain": [
       "['drink',\n",
       " 'cream',\n",
       " 'sandwich',\n",
       " 'vanilla',\n",
       " 'tea',\n",
       " 'pie',\n",
       " 'beer',\n",
       " 'salad',\n",
       " 'milk',\n",
       " 'orange',\n",
       " 'rings',\n",
       " 'strip',\n",
       " 'pudding',\n",
       " 'wrap',\n",
       " 'patty',\n",
       " 'cafe',\n",
       " 'shake',\n",
       " 'creme',\n",
       " 'esspresso',\n",
       " 'wine',\n",
       " 'soup',\n",
       " 'lattte',\n",
       " 'skillet',\n",
       " 'tater',\n",
       " 'burger',\n",
       " 'chocolate',\n",
       " 'nacho',\n",
       " 'chowder',\n",
       " 'steak',\n",
       " 'brownie',\n",
       " 'platter',\n",
       " 'burrito',\n",
       " 'meat',\n",
       " 'coffee',\n",
       " 'bites',\n",
       " 'malt',\n",
       " 'sausage',\n",
       " 'appetizer',\n",
       " 'ice cream',\n",
       " 'fries',\n",
       " 'water',\n",
       " 'chips',\n",
       " 'bowl',\n",
       " 'juice']"
      ]
     },
     "execution_count": 11,
     "metadata": {},
     "output_type": "execute_result"
    }
   ],
   "source": [
    "words"
   ]
  },
  {
   "cell_type": "code",
   "execution_count": null,
   "id": "6ba3f428",
   "metadata": {},
   "outputs": [],
   "source": []
  }
 ],
 "metadata": {
  "kernelspec": {
   "display_name": "Python 3 (ipykernel)",
   "language": "python",
   "name": "python3"
  },
  "language_info": {
   "codemirror_mode": {
    "name": "ipython",
    "version": 3
   },
   "file_extension": ".py",
   "mimetype": "text/x-python",
   "name": "python",
   "nbconvert_exporter": "python",
   "pygments_lexer": "ipython3",
   "version": "3.10.12"
  }
 },
 "nbformat": 4,
 "nbformat_minor": 5
}
